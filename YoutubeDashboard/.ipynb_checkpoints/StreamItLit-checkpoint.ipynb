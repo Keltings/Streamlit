{
 "cells": [
  {
   "cell_type": "code",
   "execution_count": 3,
   "id": "0f508c19",
   "metadata": {},
   "outputs": [],
   "source": [
    "# import libraries\n",
    "import pandas as pd\n",
    "import numpy as np\n",
    "import plotly.graph_objects as go\n",
    "import plotly.express as px\n",
    "import streamlit as st\n",
    "import datetime"
   ]
  },
  {
   "cell_type": "code",
   "execution_count": 4,
   "id": "6565e65c",
   "metadata": {},
   "outputs": [],
   "source": [
    "#define functions"
   ]
  },
  {
   "cell_type": "code",
   "execution_count": 16,
   "id": "6bb7a48c",
   "metadata": {
    "scrolled": true
   },
   "outputs": [],
   "source": [
    "# load data\n",
    "@st.cache_data # a way to reloadthe streamlit once\n",
    "def load_data():\n",
    "    \n",
    "    df_agg = pd.read_csv('Aggregated_Metrics_By_Video.csv').iloc[1:,:] #skipp the first row\n",
    "    #df_agg.head()\n",
    "    df_agg_sub = pd.read_csv('Aggregated_Metrics_By_Country_And_Subscriber_Status.csv')\n",
    "    df_comments = pd.read_csv('All_Comments_Final.csv')\n",
    "    df_time = pd.read_csv('Video_Performance_Over_Time.csv')\n",
    "    \n",
    "    return df_agg, df_agg_sub, df_comments, df_time"
   ]
  },
  {
   "cell_type": "code",
   "execution_count": 17,
   "id": "0d6bdfc0",
   "metadata": {},
   "outputs": [],
   "source": [
    "df_agg, df_agg_sub, df_comments, df_time = load_data()"
   ]
  },
  {
   "cell_type": "code",
   "execution_count": 18,
   "id": "0762c483",
   "metadata": {},
   "outputs": [],
   "source": [
    "# buidl a dashboard\n",
    "add_sidebar = st.sidebar.selectbox('Aggreggate or Individual Video', ('Aggregate Metrics', 'Individual Video Analysis'))\n"
   ]
  },
  {
   "cell_type": "code",
   "execution_count": null,
   "id": "63111a5a",
   "metadata": {},
   "outputs": [],
   "source": []
  }
 ],
 "metadata": {
  "kernelspec": {
   "display_name": "Python 3 (ipykernel)",
   "language": "python",
   "name": "python3"
  },
  "language_info": {
   "codemirror_mode": {
    "name": "ipython",
    "version": 3
   },
   "file_extension": ".py",
   "mimetype": "text/x-python",
   "name": "python",
   "nbconvert_exporter": "python",
   "pygments_lexer": "ipython3",
   "version": "3.10.6"
  }
 },
 "nbformat": 4,
 "nbformat_minor": 5
}
